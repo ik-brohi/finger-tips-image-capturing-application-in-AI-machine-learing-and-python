##############################################################
#           submitted by                                     #
#       imran khan 051-19-0010                               #               
#       aftab ahmed 023-19-0049                              #
##############################################################






import import_ipynb

import os

import cv2

import mediapipe as mp

mpHands = mp.solutions.hands

Hands = mpHands.Hands()

mpDraw = mp.solutions.drawing_utils

fingersCoordinate=[(8,6),(12,10),(16,14),(20,18)]

thumbCoordinate=(4,3)

capture = cv2.VideoCapture(0)

while (capture.isOpened()):
    
    count=0
    
    success , img = capture.read()  
    
    converted_image = cv2.cvtColor(img,cv2.COLOR_BGR2RGB) 
    
    results = Hands.process(converted_image) 
    
    handNo=0
    
    lmList=[]

    if results.multi_hand_landmarks:
        
        for id,lm in enumerate(results.multi_hand_landmarks[handNo].landmark):
            
            h,w,c=img.shape
            
            cx,cy=int(lm.x*w),int(lm.y*h)
            
            lmList.append((cx,cy))
            
        for hand_in_frame in results.multi_hand_landmarks:
            
            mpDraw.draw_landmarks(img,hand_in_frame, mpHands.HAND_CONNECTIONS)
            
        for point in lmList:
            
            cv2.circle(img,point,8,(0,255,0),cv2.FILLED) 
            
        for coordinate in fingersCoordinate:
            
            if lmList[coordinate[0]][1] < lmList[coordinate[1]][1]:
                
                count+=1
                
        if lmList[thumbCoordinate[0]][0] > lmList[thumbCoordinate[1]][0]:
            
            count+=1
            
        cv2.putText(img,str(count),(200,200),cv2.FONT_HERSHEY_PLAIN,15,(234,123,255),12)
        
        if count == 5 :
            
            cv2.namedWindow("CaptureImage")

            img_counter = 0

            while True:
                ret, frame = capture.read()
                if not ret:
                    print("failed to grab frame")
                break
            cv2.imshow("CaptureImage", frame)

            k = cv2.waitKey(1)
            if k%256 == 27:
                
                print("Escape hit, closing...")
                break
            elif k%256 == 32:
    
                img_name = "opencv_frame_{}.png".format(img_counter)
                cv2.imwrite(img_name, frame)
                print("{} written!".format(img_name))
                img_counter += 1
                
                capture.release()
                
                
    cv2.imshow("Show your hand", img)

    if cv2.waitKey(1) == 113:  
        break